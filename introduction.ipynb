{
 "cells": [
  {
   "cell_type": "code",
   "execution_count": 1,
   "id": "585d7cd3-811f-4e05-ba08-4cf247540817",
   "metadata": {},
   "outputs": [],
   "source": [
    "import numpy as np\n",
    "from scipy.sparse import coo_matrix\n",
    "np.random.seed(123)\n",
    "np.set_printoptions(formatter={'float': '{:+.4e}'.format})"
   ]
  },
  {
   "cell_type": "markdown",
   "id": "01db0e3f-3b68-46fc-a228-f1bc179e1c1c",
   "metadata": {},
   "source": [
    "# $2 \\times 2$ Example"
   ]
  },
  {
   "cell_type": "code",
   "execution_count": 2,
   "id": "cdaffbcf-93c2-4880-bf1c-c1f45e12ee49",
   "metadata": {},
   "outputs": [
    {
     "name": "stdout",
     "output_type": "stream",
     "text": [
      "[[1 2]\n",
      " [3 4]]\n"
     ]
    }
   ],
   "source": [
    "a,b,c,d = 1,2,3,4\n",
    "A = np.array([[a,b],[c,d]])\n",
    "print(A)"
   ]
  },
  {
   "cell_type": "code",
   "execution_count": 3,
   "id": "83e8fc8d-e5de-4942-a05e-20d420ec5e4f",
   "metadata": {},
   "outputs": [],
   "source": [
    "def compang(a,b,c,d):\n",
    "    x = np.atan2(b-c,a+d)\n",
    "    y = np.atan2(b+c,a-d)\n",
    "    return (x-y)/2, (x+y)/2"
   ]
  },
  {
   "cell_type": "code",
   "execution_count": 4,
   "id": "22a89805-c01e-4ab9-a218-1902155c4a27",
   "metadata": {},
   "outputs": [],
   "source": [
    "theta, phi = compang(a,b,c,d)"
   ]
  },
  {
   "cell_type": "code",
   "execution_count": 5,
   "id": "2d51b139-06c7-443d-ad1f-005fa4f95847",
   "metadata": {},
   "outputs": [],
   "source": [
    "Jtheta = np.array([[np.cos(theta), -np.sin(theta)],[np.sin(theta),np.cos(theta)]])\n",
    "Jphi = np.array([[np.cos(phi), -np.sin(phi)],[np.sin(phi),np.cos(phi)]])"
   ]
  },
  {
   "cell_type": "code",
   "execution_count": 6,
   "id": "a374a868-006d-408a-bc0d-4b161e6e31f9",
   "metadata": {},
   "outputs": [
    {
     "data": {
      "text/plain": [
       "array([[+5.4650e+00, +1.2507e-16],\n",
       "       [+1.7136e-16, -3.6597e-01]])"
      ]
     },
     "execution_count": 6,
     "metadata": {},
     "output_type": "execute_result"
    }
   ],
   "source": [
    "Jtheta @ A @ Jphi"
   ]
  },
  {
   "cell_type": "markdown",
   "id": "ce28541a-2e1c-4a81-87dd-c646ecf4cd18",
   "metadata": {},
   "source": [
    "# $n \\times n$ Example"
   ]
  },
  {
   "cell_type": "code",
   "execution_count": 7,
   "id": "719c1613-720f-4ed3-8d82-3d97ff701ced",
   "metadata": {},
   "outputs": [],
   "source": [
    "def sparserot(n,i,j,theta):\n",
    "    rows = np.arange(n+2)\n",
    "    cols = np.arange(n+2)\n",
    "    values = np.ones(n+2)\n",
    "    \n",
    "    values[i] = np.cos(theta)\n",
    "    values[j] = np.cos(theta)\n",
    "    values[n] = -np.sin(theta)\n",
    "    values[n+1] = np.sin(theta)\n",
    "\n",
    "    rows[n] = i\n",
    "    cols[n] = j\n",
    "    \n",
    "    rows[n+1] = j\n",
    "    cols[n+1] = i\n",
    "\n",
    "    return coo_matrix((values, (rows, cols)), shape=(n, n))"
   ]
  },
  {
   "cell_type": "code",
   "execution_count": 8,
   "id": "41863fd9-3860-4693-81b8-f918ea2f861c",
   "metadata": {},
   "outputs": [],
   "source": [
    "theta = np.pi/6"
   ]
  },
  {
   "cell_type": "code",
   "execution_count": 9,
   "id": "f0bca695-ddec-4a73-bfcc-32e730afa226",
   "metadata": {},
   "outputs": [
    {
     "name": "stdout",
     "output_type": "stream",
     "text": [
      "[[+8.6603e-01 -5.0000e-01]\n",
      " [+5.0000e-01 +8.6603e-01]]\n"
     ]
    }
   ],
   "source": [
    "Jtheta = np.array([[np.cos(theta), -np.sin(theta)],[np.sin(theta),np.cos(theta)]])\n",
    "print(Jtheta)"
   ]
  },
  {
   "cell_type": "code",
   "execution_count": 10,
   "id": "9742ede6-eb6d-4ba6-9a15-38dba7e7a796",
   "metadata": {},
   "outputs": [
    {
     "name": "stdout",
     "output_type": "stream",
     "text": [
      "[[+8.6603e-01 -5.0000e-01]\n",
      " [+5.0000e-01 +8.6603e-01]]\n"
     ]
    }
   ],
   "source": [
    "Jtheta = sparserot(2,0,1,theta)\n",
    "print(Jtheta.toarray())"
   ]
  },
  {
   "cell_type": "code",
   "execution_count": 11,
   "id": "81afd6a8-74af-4262-8073-714e754a826c",
   "metadata": {},
   "outputs": [
    {
     "name": "stdout",
     "output_type": "stream",
     "text": [
      "[[+1.0000e+00 +0.0000e+00 +0.0000e+00 +0.0000e+00 +0.0000e+00]\n",
      " [+0.0000e+00 +8.6603e-01 +0.0000e+00 -5.0000e-01 +0.0000e+00]\n",
      " [+0.0000e+00 +0.0000e+00 +1.0000e+00 +0.0000e+00 +0.0000e+00]\n",
      " [+0.0000e+00 +5.0000e-01 +0.0000e+00 +8.6603e-01 +0.0000e+00]\n",
      " [+0.0000e+00 +0.0000e+00 +0.0000e+00 +0.0000e+00 +1.0000e+00]]\n"
     ]
    }
   ],
   "source": [
    "Jtheta = sparserot(5,1,3,theta)\n",
    "print(Jtheta.toarray())"
   ]
  },
  {
   "cell_type": "code",
   "execution_count": 12,
   "id": "9140d49f-75eb-4d86-bb74-605e86e63ab0",
   "metadata": {},
   "outputs": [
    {
     "name": "stdout",
     "output_type": "stream",
     "text": [
      "[[-1.0856e+00 +9.9735e-01 +2.8298e-01 -1.5063e+00 -5.7860e-01]\n",
      " [+1.6514e+00 -2.4267e+00 -4.2891e-01 +1.2659e+00 -8.6674e-01]\n",
      " [-6.7889e-01 -9.4709e-02 +1.4914e+00 -6.3890e-01 -4.4398e-01]\n",
      " [-4.3435e-01 +2.2059e+00 +2.1868e+00 +1.0041e+00 +3.8619e-01]\n",
      " [+7.3737e-01 +1.4907e+00 -9.3583e-01 +1.1758e+00 -1.2539e+00]]\n"
     ]
    }
   ],
   "source": [
    "A = np.random.randn(5,5)\n",
    "print(A)"
   ]
  },
  {
   "cell_type": "code",
   "execution_count": 13,
   "id": "adc3e047-8eb6-4632-b9b2-f57f60f8e2e5",
   "metadata": {},
   "outputs": [
    {
     "name": "stdout",
     "output_type": "stream",
     "text": [
      "[+4.4670e+00 +2.9873e+00 +2.3767e+00 +1.5391e+00 +7.8710e-02]\n"
     ]
    }
   ],
   "source": [
    "U,S,V = np.linalg.svd(A)\n",
    "print(S)"
   ]
  },
  {
   "cell_type": "code",
   "execution_count": 14,
   "id": "069ab78e-880b-4fec-b546-c2a42318d6f9",
   "metadata": {},
   "outputs": [],
   "source": [
    "def jacobirot(A,i,j):\n",
    "\n",
    "    assert A.shape[0]==A.shape[1]\n",
    "    n = A.shape[0]\n",
    "    \n",
    "    a = A[i,i]\n",
    "    b = A[i,j]\n",
    "    c = A[j,i]\n",
    "    d = A[j,j]\n",
    "    \n",
    "    theta, phi = compang(a,b,c,d)\n",
    "    \n",
    "    Jtheta = sparserot(n,i,j,theta)\n",
    "    Jphi= sparserot(n,i,j,phi)\n",
    "\n",
    "    return Jtheta, Jphi"
   ]
  },
  {
   "cell_type": "code",
   "execution_count": 15,
   "id": "dbe246d7-129b-4f56-aef1-4db4dc9b5748",
   "metadata": {},
   "outputs": [],
   "source": [
    "Jtheta, Jphi = jacobirot(A,1,3)"
   ]
  },
  {
   "cell_type": "code",
   "execution_count": 16,
   "id": "bb9eea9a-e9d6-4bf2-a857-3eaf7ee6cd06",
   "metadata": {},
   "outputs": [
    {
     "data": {
      "text/plain": [
       "array([[-1.0856e+00, +1.1480e+00, +2.8298e-01, -1.3949e+00, -5.7860e-01],\n",
       "       [-1.5518e+00, +3.2930e+00, +1.7194e+00, -7.7716e-16, +9.1489e-01],\n",
       "       [-6.7889e-01, -2.8044e-02, +1.4914e+00, -6.4527e-01, -4.4398e-01],\n",
       "       [-7.1253e-01, -1.1657e-15, -1.4176e+00, -1.5879e+00, +2.5170e-01],\n",
       "       [+7.3737e-01, +1.3610e+00, -9.3583e-01, +1.3239e+00, -1.2539e+00]])"
      ]
     },
     "execution_count": 16,
     "metadata": {},
     "output_type": "execute_result"
    }
   ],
   "source": [
    "Jtheta @ A @ Jphi"
   ]
  },
  {
   "cell_type": "code",
   "execution_count": 17,
   "id": "04b2ff41-f130-47a4-b173-e1c77cdd1c67",
   "metadata": {},
   "outputs": [
    {
     "name": "stdout",
     "output_type": "stream",
     "text": [
      "[[+4.3480e+00 +3.7937e-01 +1.9904e-01 -6.0777e-02 +7.8149e-01]\n",
      " [+2.0078e-02 +2.1662e+00 -4.1094e-01 +5.3964e-02 +1.2588e+00]\n",
      " [+2.0375e-02 -6.7008e-02 +2.8194e+00 +6.7542e-03 -1.8228e-01]\n",
      " [-7.2133e-02 +3.0132e-01 +5.6634e-02 +1.5659e+00 +1.7347e-16]\n",
      " [+7.8010e-02 -4.1205e-01 -1.3649e-01 +4.3368e-18 -1.2523e-01]]\n"
     ]
    }
   ],
   "source": [
    "n = A.shape[0]\n",
    "for i in range(n):\n",
    "    for j in range(i+1,n):\n",
    "        Jtheta, Jphi = jacobirot(A,i,j)\n",
    "        A = Jtheta @ A @ Jphi\n",
    "print(A)"
   ]
  },
  {
   "cell_type": "code",
   "execution_count": 18,
   "id": "54039571-3f66-4482-9f17-bcb1dcd8a55e",
   "metadata": {},
   "outputs": [
    {
     "name": "stdout",
     "output_type": "stream",
     "text": [
      "[[+4.4670e+00 +1.3309e-226 +1.6754e-231 -6.0343e-231 -7.3864e-127]\n",
      " [-6.8791e-136 +2.9873e+00 +1.6958e-167 -3.0728e-234 +1.5275e-287]\n",
      " [+1.5490e-120 -3.4493e-235 +2.3767e+00 -4.6772e-239 +0.0000e+00]\n",
      " [-1.2050e-181 +1.4917e-154 -1.1162e-239 +1.5391e+00 +0.0000e+00]\n",
      " [-7.6172e-127 -9.8619e-132 -7.4165e-136 -2.5797e-136 +7.8710e-02]]\n"
     ]
    }
   ],
   "source": [
    "n = A.shape[0]\n",
    "for i in range(10):\n",
    "    for i in range(n):\n",
    "        for j in range(i+1,n):\n",
    "            Jtheta, Jphi = jacobirot(A,i,j)\n",
    "            A = Jtheta @ A @ Jphi\n",
    "print(A)"
   ]
  },
  {
   "cell_type": "code",
   "execution_count": 19,
   "id": "fb61e71a-e121-4f27-8f70-5e09d10afd1d",
   "metadata": {},
   "outputs": [],
   "source": [
    "S0 = np.sort(np.abs(np.diag(A)))[::-1]"
   ]
  },
  {
   "cell_type": "code",
   "execution_count": 20,
   "id": "f65ed187-e274-474f-9266-6bb24ff3f02d",
   "metadata": {},
   "outputs": [
    {
     "name": "stdout",
     "output_type": "stream",
     "text": [
      "[+4.4670e+00 +2.9873e+00 +2.3767e+00 +1.5391e+00 +7.8710e-02]\n"
     ]
    }
   ],
   "source": [
    "print(S0)"
   ]
  },
  {
   "cell_type": "code",
   "execution_count": 21,
   "id": "e13f0010-5a13-4f67-b0ab-84fd2f20166c",
   "metadata": {},
   "outputs": [
    {
     "name": "stdout",
     "output_type": "stream",
     "text": [
      "[+2.6645e-15 +1.7764e-15 +0.0000e+00 +1.1102e-15 +3.7470e-16]\n"
     ]
    }
   ],
   "source": [
    "err = np.abs(S - S0)\n",
    "print(err)"
   ]
  },
  {
   "cell_type": "code",
   "execution_count": null,
   "id": "6a862ef5-5d7a-4297-96dd-40f3e75a2d74",
   "metadata": {},
   "outputs": [],
   "source": []
  },
  {
   "cell_type": "markdown",
   "id": "1c28f30d-f3e0-4d40-a8be-a0cdadbbb976",
   "metadata": {},
   "source": [
    "# "
   ]
  }
 ],
 "metadata": {
  "kernelspec": {
   "display_name": "Python 3 (ipykernel)",
   "language": "python",
   "name": "python3"
  },
  "language_info": {
   "codemirror_mode": {
    "name": "ipython",
    "version": 3
   },
   "file_extension": ".py",
   "mimetype": "text/x-python",
   "name": "python",
   "nbconvert_exporter": "python",
   "pygments_lexer": "ipython3",
   "version": "3.12.8"
  }
 },
 "nbformat": 4,
 "nbformat_minor": 5
}
